{
 "cells": [
  {
   "cell_type": "markdown",
   "id": "6970ad94",
   "metadata": {},
   "source": [
    "# Predicting Stock Prices In Python Code\n",
    "\n",
    "Deep learning is getting a lot of attention these days, and for good reason. It’s achieving unprecedented levels of accuracy—to the point where deep learning algorithms can outperform humans at predicting figures, classifying images, and translating text. \n",
    "\n",
    "This program aims to understand how LSTM works with a case study of predicting **Amazon** stock prices. \n",
    "\n",
    "**What is LSTM**\n",
    "- Long Short Term Memory networks – usually just called “LSTMs” – are a special kind of RNN, capable of learning long-term dependencies. They were introduced by Hochreiter & Schmidhuber (1997), and were refined and popularized by many people in following work.1 They work tremendously well on a large variety of problems, and are now widely used. LSTMs are explicitly designed to avoid the long-term dependency problem. Remembering information for long periods of time is practically their default behavior, not something they struggle to learn! All recurrent neural networks have the form of a chain of repeating modules of neural network. In standard RNNs, this repeating module will have a very simple structure, such as a single tanh layer."
   ]
  },
  {
   "cell_type": "code",
   "execution_count": 18,
   "id": "44546d4f",
   "metadata": {},
   "outputs": [],
   "source": [
    "# import libraries\n",
    "import numpy as np\n",
    "import pandas as pd\n",
    "import matplotlib.pyplot as plt\n",
    "import pandas_datareader as web\n",
    "import datetime as dt\n",
    "import pickle\n",
    "from sklearn.preprocessing import MinMaxScaler\n",
    "from tensorflow.keras.models import Sequential\n",
    "from tensorflow.keras.layers import Dense, Dropout, LSTM"
   ]
  },
  {
   "cell_type": "markdown",
   "id": "2a66d47d",
   "metadata": {},
   "source": [
    "## Load data"
   ]
  },
  {
   "cell_type": "code",
   "execution_count": 57,
   "id": "925e6104",
   "metadata": {},
   "outputs": [],
   "source": [
    "company = 'AMZN' # Amazon stock symbol\n",
    "past_days =  30 # number of days we used for predicting stock price for next day\n",
    "start_date = dt.datetime(2011, 1, 1) # start date for data\n",
    "end_date = dt.datetime(2021, 1, 1) # end date for data\n",
    "\n",
    "data = web.DataReader(company, 'yahoo', start_date, end_date)"
   ]
  },
  {
   "cell_type": "code",
   "execution_count": 58,
   "id": "8676badf",
   "metadata": {},
   "outputs": [
    {
     "data": {
      "text/plain": [
       "<matplotlib.axes._subplots.AxesSubplot at 0x7f8043c36700>"
      ]
     },
     "execution_count": 58,
     "metadata": {},
     "output_type": "execute_result"
    },
    {
     "data": {
      "image/png": "[encoded data removed]",
      "text/plain": [
       "<Figure size 432x288 with 1 Axes>"
      ]
     },
     "metadata": {
      "needs_background": "light"
     },
     "output_type": "display_data"
    }
   ],
   "source": [
    "# show Amazon's closing stock price last 10 years\n",
    "data['Close'].plot(title='{}: Closing Price'.format(company))"
   ]
  },
  {
   "cell_type": "code",
   "execution_count": 59,
   "id": "bc39461a",
   "metadata": {},
   "outputs": [
    {
     "data": {
      "text/html": [
       "<div>\n",
       "<style scoped>\n",
       "    .dataframe tbody tr th:only-of-type {\n",
       "        vertical-align: middle;\n",
       "    }\n",
       "\n",
       "    .dataframe tbody tr th {\n",
       "        vertical-align: top;\n",
       "    }\n",
       "\n",
       "    .dataframe thead th {\n",
       "        text-align: right;\n",
       "    }\n",
       "</style>\n",
       "<table border=\"1\" class=\"dataframe\">\n",
       "  <thead>\n",
       "    <tr style=\"text-align: right;\">\n",
       "      <th></th>\n",
       "      <th>Close</th>\n",
       "    </tr>\n",
       "    <tr>\n",
       "      <th>Date</th>\n",
       "      <th></th>\n",
       "    </tr>\n",
       "  </thead>\n",
       "  <tbody>\n",
       "    <tr>\n",
       "      <th>2010-12-31</th>\n",
       "      <td>180.000000</td>\n",
       "    </tr>\n",
       "    <tr>\n",
       "      <th>2011-01-03</th>\n",
       "      <td>184.220001</td>\n",
       "    </tr>\n",
       "    <tr>\n",
       "      <th>2011-01-04</th>\n",
       "      <td>185.009995</td>\n",
       "    </tr>\n",
       "    <tr>\n",
       "      <th>2011-01-05</th>\n",
       "      <td>187.419998</td>\n",
       "    </tr>\n",
       "    <tr>\n",
       "      <th>2011-01-06</th>\n",
       "      <td>185.860001</td>\n",
       "    </tr>\n",
       "    <tr>\n",
       "      <th>...</th>\n",
       "      <td>...</td>\n",
       "    </tr>\n",
       "    <tr>\n",
       "      <th>2020-12-24</th>\n",
       "      <td>3172.689941</td>\n",
       "    </tr>\n",
       "    <tr>\n",
       "      <th>2020-12-28</th>\n",
       "      <td>3283.959961</td>\n",
       "    </tr>\n",
       "    <tr>\n",
       "      <th>2020-12-29</th>\n",
       "      <td>3322.000000</td>\n",
       "    </tr>\n",
       "    <tr>\n",
       "      <th>2020-12-30</th>\n",
       "      <td>3285.850098</td>\n",
       "    </tr>\n",
       "    <tr>\n",
       "      <th>2020-12-31</th>\n",
       "      <td>3256.929932</td>\n",
       "    </tr>\n",
       "  </tbody>\n",
       "</table>\n",
       "<p>2518 rows × 1 columns</p>\n",
       "</div>"
      ],
      "text/plain": [
       "                  Close\n",
       "Date                   \n",
       "2010-12-31   180.000000\n",
       "2011-01-03   184.220001\n",
       "2011-01-04   185.009995\n",
       "2011-01-05   187.419998\n",
       "2011-01-06   185.860001\n",
       "...                 ...\n",
       "2020-12-24  3172.689941\n",
       "2020-12-28  3283.959961\n",
       "2020-12-29  3322.000000\n",
       "2020-12-30  3285.850098\n",
       "2020-12-31  3256.929932\n",
       "\n",
       "[2518 rows x 1 columns]"
      ]
     },
     "execution_count": 59,
     "metadata": {},
     "output_type": "execute_result"
    }
   ],
   "source": [
    "# show data as table\n",
    "data[['Close']]"
   ]
  },
  {
   "cell_type": "markdown",
   "id": "e4185a41",
   "metadata": {},
   "source": [
    "## Prepare Data\n",
    "\n",
    "### Scale Data"
   ]
  },
  {
   "cell_type": "code",
   "execution_count": 60,
   "id": "197d66c6",
   "metadata": {},
   "outputs": [],
   "source": [
    "# use sklearn.MinMaxScaler to scale data\n",
    "scaler = MinMaxScaler(feature_range=(0,1)) # scale stock price between 0 to 1\n",
    "scaled_data = scaler.fit_transform(data['Close'].values.reshape(-1, 1)) # reshape to 1 column regardless number of rows"
   ]
  },
  {
   "cell_type": "markdown",
   "id": "b9d90a05",
   "metadata": {},
   "source": [
    "### Extract training and label data"
   ]
  },
  {
   "cell_type": "code",
   "execution_count": 61,
   "id": "1d91f1a2",
   "metadata": {},
   "outputs": [],
   "source": [
    "x_train = []\n",
    "y_train = []\n",
    "past_days = 50\n",
    "for x in range(past_days, len(scaled_data)):\n",
    "    x_train.append(scaled_data[x-past_days:x, 0]) # 50 days for training\n",
    "    y_train.append(scaled_data[x, 0])             # actual stock price(scaled) for label"
   ]
  },
  {
   "cell_type": "code",
   "execution_count": 62,
   "id": "b1e4a5b7",
   "metadata": {},
   "outputs": [
    {
     "data": {
      "text/plain": [
       "(2468, 50, 1)"
      ]
     },
     "execution_count": 62,
     "metadata": {},
     "output_type": "execute_result"
    }
   ],
   "source": [
    "x_train = np.array(x_train)\n",
    "y_train = np.array(y_train)\n",
    "x_train = np.reshape(x_train, (x_train.shape[0], x_train.shape[1], 1)) \n",
    "x_train.shape"
   ]
  },
  {
   "cell_type": "markdown",
   "id": "35f3a453",
   "metadata": {},
   "source": [
    "## Build Model"
   ]
  },
  {
   "cell_type": "code",
   "execution_count": 63,
   "id": "5c6358cd",
   "metadata": {},
   "outputs": [
    {
     "name": "stdout",
     "output_type": "stream",
     "text": [
      "Epoch 1/25\n",
      "78/78 [==============================] - 7s 40ms/step - loss: 0.0081\n",
      "Epoch 2/25\n",
      "78/78 [==============================] - 3s 42ms/step - loss: 0.0019\n",
      "Epoch 3/25\n",
      "78/78 [==============================] - 3s 39ms/step - loss: 0.0015\n",
      "Epoch 4/25\n",
      "78/78 [==============================] - 3s 39ms/step - loss: 0.0015\n",
      "Epoch 5/25\n",
      "78/78 [==============================] - 3s 40ms/step - loss: 0.0013\n",
      "Epoch 6/25\n",
      "78/78 [==============================] - 3s 36ms/step - loss: 0.0011\n",
      "Epoch 7/25\n",
      "78/78 [==============================] - 3s 36ms/step - loss: 0.0013\n",
      "Epoch 8/25\n",
      "78/78 [==============================] - 3s 36ms/step - loss: 0.0012\n",
      "Epoch 9/25\n",
      "78/78 [==============================] - 3s 37ms/step - loss: 0.0011\n",
      "Epoch 10/25\n",
      "78/78 [==============================] - 3s 36ms/step - loss: 0.0010\n",
      "Epoch 11/25\n",
      "78/78 [==============================] - 3s 36ms/step - loss: 0.0011\n",
      "Epoch 12/25\n",
      "78/78 [==============================] - 3s 36ms/step - loss: 0.0010\n",
      "Epoch 13/25\n",
      "78/78 [==============================] - 3s 37ms/step - loss: 0.0010\n",
      "Epoch 14/25\n",
      "78/78 [==============================] - 3s 36ms/step - loss: 9.6045e-04\n",
      "Epoch 15/25\n",
      "78/78 [==============================] - 3s 36ms/step - loss: 8.9505e-04\n",
      "Epoch 16/25\n",
      "78/78 [==============================] - 3s 36ms/step - loss: 8.6689e-04\n",
      "Epoch 17/25\n",
      "78/78 [==============================] - 3s 36ms/step - loss: 0.0010\n",
      "Epoch 18/25\n",
      "78/78 [==============================] - 3s 36ms/step - loss: 8.9131e-04\n",
      "Epoch 19/25\n",
      "78/78 [==============================] - 3s 36ms/step - loss: 8.8913e-04\n",
      "Epoch 20/25\n",
      "78/78 [==============================] - 3s 36ms/step - loss: 0.0010\n",
      "Epoch 21/25\n",
      "78/78 [==============================] - 3s 36ms/step - loss: 8.7238e-04\n",
      "Epoch 22/25\n",
      "78/78 [==============================] - 3s 39ms/step - loss: 8.3714e-04\n",
      "Epoch 23/25\n",
      "78/78 [==============================] - 3s 39ms/step - loss: 7.3901e-04\n",
      "Epoch 24/25\n",
      "78/78 [==============================] - 3s 37ms/step - loss: 7.6178e-04\n",
      "Epoch 25/25\n",
      "78/78 [==============================] - 3s 36ms/step - loss: 0.0011\n"
     ]
    },
    {
     "data": {
      "text/plain": [
       "<tensorflow.python.keras.callbacks.History at 0x7f80414ccb50>"
      ]
     },
     "execution_count": 63,
     "metadata": {},
     "output_type": "execute_result"
    }
   ],
   "source": [
    "\"\"\"\n",
    "    we use sequential model that is appropriate \n",
    "     for a plain stack of layers where each layer has exactly one input tensor and one output tensor.\n",
    "\"\"\"\n",
    "pred_model = Sequential() \n",
    "# units is dimensionality of the layers' output \n",
    "pred_model.add(LSTM(units = 50, return_sequences = True, input_shape = (x_train.shape[1], 1)))\n",
    "pred_model.add(Dropout(0.2)) # 20% of input will be randomly excluded for preventing overfit training data \n",
    "pred_model.add(LSTM(units = 50, return_sequences = True))\n",
    "pred_model.add(Dropout(0.2))\n",
    "pred_model.add(LSTM(units = 50))\n",
    "pred_model.add(Dropout(0.2))\n",
    "pred_model.add(Dense(units=1)) # the output shape set to 1\n",
    "# set optimizer               \n",
    "pred_model.compile(optimizer = 'adam', loss='mean_squared_error')\n",
    "# fit data to the model\n",
    "pred_model.fit(x_train, y_train, epochs=25, batch_size=32)                              "
   ]
  },
  {
   "cell_type": "markdown",
   "id": "a9613177",
   "metadata": {},
   "source": [
    "### Save Model"
   ]
  },
  {
   "cell_type": "code",
   "execution_count": 64,
   "id": "198ba6c5",
   "metadata": {},
   "outputs": [
    {
     "name": "stderr",
     "output_type": "stream",
     "text": [
      "WARNING:absl:Found untraced functions such as lstm_cell_3_layer_call_and_return_conditional_losses, lstm_cell_3_layer_call_fn, lstm_cell_4_layer_call_and_return_conditional_losses, lstm_cell_4_layer_call_fn, lstm_cell_5_layer_call_and_return_conditional_losses while saving (showing 5 of 15). These functions will not be directly callable after loading.\n"
     ]
    },
    {
     "name": "stdout",
     "output_type": "stream",
     "text": [
      "INFO:tensorflow:Assets written to: model/assets\n"
     ]
    },
    {
     "name": "stderr",
     "output_type": "stream",
     "text": [
      "INFO:tensorflow:Assets written to: model/assets\n"
     ]
    }
   ],
   "source": [
    "# save model to disk\n",
    "\n",
    "filename = 'trained_pred_model.pkl'\n",
    "pred_model.save('model/')"
   ]
  },
  {
   "cell_type": "code",
   "execution_count": 65,
   "id": "6227312a",
   "metadata": {},
   "outputs": [
    {
     "data": {
      "text/plain": [
       "\" Load model\\nfrom tensorflow import keras\\nmodel = keras.models.load_model('model/')\\n\""
      ]
     },
     "execution_count": 65,
     "metadata": {},
     "output_type": "execute_result"
    }
   ],
   "source": [
    "\"\"\" Load model\n",
    "from tensorflow import keras\n",
    "model = keras.models.load_model('model/')\n",
    "\"\"\""
   ]
  },
  {
   "cell_type": "markdown",
   "id": "6bc574f6",
   "metadata": {},
   "source": [
    "## Test Model"
   ]
  },
  {
   "cell_type": "markdown",
   "id": "26bf3da5",
   "metadata": {},
   "source": [
    "### Create Test Data"
   ]
  },
  {
   "cell_type": "code",
   "execution_count": 66,
   "id": "8df8242a",
   "metadata": {},
   "outputs": [],
   "source": [
    "test_start = dt.datetime(2021,1,1) # test data starts from the end of training date\n",
    "test_end = dt.datetime.now()\n",
    "\n",
    "test_data = web.DataReader(company, 'yahoo', test_start, test_end)\n",
    "actual_prices = test_data['Close'].values\n",
    "# aggregate training data and test data, this will be used for testing model\n",
    "total_data = pd.concat((data['Close'], test_data['Close']), axis=0)"
   ]
  },
  {
   "cell_type": "markdown",
   "id": "048070df",
   "metadata": {},
   "source": [
    "### Model Inputs"
   ]
  },
  {
   "cell_type": "code",
   "execution_count": 67,
   "id": "e1a8e5d0",
   "metadata": {},
   "outputs": [],
   "source": [
    "model_inputs = total_data[len(total_data) - len(test_data) - past_days:].values\n",
    "model_inputs = model_inputs.reshape(-1, 1)\n",
    "model_inputs = scaler.transform(model_inputs)"
   ]
  },
  {
   "cell_type": "markdown",
   "id": "e41fd3c5",
   "metadata": {},
   "source": [
    "### Make Predictions on Test data"
   ]
  },
  {
   "cell_type": "code",
   "execution_count": 68,
   "id": "aa46fde2",
   "metadata": {},
   "outputs": [],
   "source": [
    "x_test = []\n",
    "\n",
    "for x in range(past_days, len(model_inputs)):\n",
    "    x_test.append(model_inputs[x-past_days:x, 0])\n",
    "    \n",
    "x_test = np.array(x_test)\n",
    "x_test = np.reshape(x_test, (x_test.shape[0], x_test.shape[1], 1))"
   ]
  },
  {
   "cell_type": "code",
   "execution_count": 69,
   "id": "b5bffec1",
   "metadata": {},
   "outputs": [],
   "source": [
    "predicted_prices = pred_model.predict(x_test)\n",
    "predicted_prices = scaler.inverse_transform(predicted_prices)"
   ]
  },
  {
   "cell_type": "markdown",
   "id": "e095b6a8",
   "metadata": {},
   "source": [
    "### Show predictions"
   ]
  },
  {
   "cell_type": "code",
   "execution_count": 70,
   "id": "20cea7a0",
   "metadata": {},
   "outputs": [
    {
     "data": {
      "image/png": "[encoded data removed]",
      "text/plain": [
       "<Figure size 432x288 with 1 Axes>"
      ]
     },
     "metadata": {
      "needs_background": "light"
     },
     "output_type": "display_data"
    }
   ],
   "source": [
    "plt.plot(actual_prices, color='black', label='Actual company prices')\n",
    "plt.plot(predicted_prices, color='blue', label='Predicted company prices')\n",
    "plt.title(\"{} Share Rrice\".format(company))\n",
    "plt.xlabel('Date between {} and {}'.format(test_start.date(), test_end.date()))\n",
    "plt.ylabel(\"{} Share Rrice\".format(company))\n",
    "plt.legend()\n",
    "plt.show()"
   ]
  },
  {
   "cell_type": "markdown",
   "id": "38109323",
   "metadata": {},
   "source": [
    "### Root Mean Square Error (RMSE)"
   ]
  },
  {
   "cell_type": "code",
   "execution_count": 72,
   "id": "ff6dd75a",
   "metadata": {},
   "outputs": [
    {
     "data": {
      "text/plain": [
       "121.59988547370018"
      ]
     },
     "execution_count": 72,
     "metadata": {},
     "output_type": "execute_result"
    }
   ],
   "source": [
    "from sklearn.metrics import mean_squared_error\n",
    "from math import sqrt\n",
    "\n",
    "rms = sqrt(mean_squared_error(actual_prices, predicted_prices))\n",
    "rms"
   ]
  },
  {
   "cell_type": "markdown",
   "id": "75f91ff7",
   "metadata": {},
   "source": [
    "## Predict Next Day"
   ]
  },
  {
   "cell_type": "code",
   "execution_count": 71,
   "id": "0ac18f5a",
   "metadata": {},
   "outputs": [
    {
     "name": "stdout",
     "output_type": "stream",
     "text": [
      "WARNING:tensorflow:Model was constructed with shape (None, 50, 1) for input KerasTensor(type_spec=TensorSpec(shape=(None, 50, 1), dtype=tf.float32, name='lstm_3_input'), name='lstm_3_input', description=\"created by layer 'lstm_3_input'\"), but it was called on an input with incompatible shape (None, 49, 1).\n"
     ]
    },
    {
     "name": "stderr",
     "output_type": "stream",
     "text": [
      "WARNING:tensorflow:Model was constructed with shape (None, 50, 1) for input KerasTensor(type_spec=TensorSpec(shape=(None, 50, 1), dtype=tf.float32, name='lstm_3_input'), name='lstm_3_input', description=\"created by layer 'lstm_3_input'\"), but it was called on an input with incompatible shape (None, 49, 1).\n"
     ]
    },
    {
     "name": "stdout",
     "output_type": "stream",
     "text": [
      "Prediction: [[3271.72]]\n"
     ]
    }
   ],
   "source": [
    "real_data = [model_inputs[len(model_inputs) + 1 -past_days:len(model_inputs+1), 0]]\n",
    "real_data = np.array(real_data)\n",
    "real_data = np.reshape(real_data, (real_data.shape[0], real_data.shape[1], 1))\n",
    "\n",
    "prediction = pred_model.predict(real_data)\n",
    "prediction = scaler.inverse_transform(prediction)\n",
    "print(\"Prediction: {}\".format(prediction))"
   ]
  },
  {
   "cell_type": "markdown",
   "id": "c9a36a6d",
   "metadata": {},
   "source": [
    "# Summary\n",
    "\n",
    "We develop this program to learn how to build a prediction model with the LSTM method. The built model can predict the next day stock price of Amazon base on the past 30 days. "
   ]
  }
 ],
 "metadata": {
  "kernelspec": {
   "display_name": "mlenv",
   "language": "python",
   "name": "mlenv"
  },
  "language_info": {
   "codemirror_mode": {
    "name": "ipython",
    "version": 3
   },
   "file_extension": ".py",
   "mimetype": "text/x-python",
   "name": "python",
   "nbconvert_exporter": "python",
   "pygments_lexer": "ipython3",
   "version": "3.8.3"
  },
  "toc": {
   "base_numbering": 1,
   "nav_menu": {},
   "number_sections": false,
   "sideBar": true,
   "skip_h1_title": false,
   "title_cell": "Table of Contents",
   "title_sidebar": "Contents",
   "toc_cell": false,
   "toc_position": {},
   "toc_section_display": true,
   "toc_window_display": true
  }
 },
 "nbformat": 4,
 "nbformat_minor": 5
}
